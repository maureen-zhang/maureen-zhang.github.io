{
  "nbformat": 4,
  "nbformat_minor": 0,
  "metadata": {
    "colab": {
      "provenance": [],
      "toc_visible": true,
      "authorship_tag": "ABX9TyMgujHdgPayHYtEKJ8XFKOl",
      "include_colab_link": true
    },
    "kernelspec": {
      "name": "python3",
      "display_name": "Python 3"
    },
    "language_info": {
      "name": "python"
    }
  },
  "cells": [
    {
      "cell_type": "markdown",
      "metadata": {
        "id": "view-in-github",
        "colab_type": "text"
      },
      "source": [
        "<a href=\"https://colab.research.google.com/github/maureen-zhang/maureen-zhang.github.io/blob/main/Addition%20and%20Multiplication%20Calculator.ipynb\" target=\"_parent\"><img src=\"https://colab.research.google.com/assets/colab-badge.svg\" alt=\"Open In Colab\"/></a>"
      ]
    },
    {
      "cell_type": "markdown",
      "source": [
        "#Elliptic curv addition algo from Theorem 6.6\n",
        "All calculation in this file is for elliptic curve modulo some prime p!\n",
        "\n",
        "Hope this can make your homework easier :)\n",
        "\n",
        "-Maureen"
      ],
      "metadata": {
        "id": "D8yL_Ptdf5NS"
      }
    },
    {
      "cell_type": "code",
      "source": [
        "# Helper function for modular inverse\n",
        "def mod_inverse(a, m):\n",
        "    \"\"\"\n",
        "    Return x such that (a * x) % m == 1, or None if gcd(a, m) != 1.\n",
        "    Implements extended Euclidean algorithm.\n",
        "    \"\"\"\n",
        "    if m <= 0:\n",
        "        raise ValueError(\"Modulus m must be a positive integer\")\n",
        "\n",
        "    a %= m\n",
        "    if a == 0:\n",
        "        return None\n",
        "\n",
        "    # r0 = m, r1 = a; t0,t1 track the Bezout coeff for 'a'\n",
        "    r0, r1 = m, a\n",
        "    t0, t1 = 0, 1\n",
        "\n",
        "    while r1 != 0:\n",
        "        q = r0 // r1\n",
        "        r0, r1 = r1, r0 - q * r1\n",
        "        t0, t1 = t1, t0 - q * t1\n",
        "\n",
        "    # If gcd(a, m) != 1, inverse doesn't exist\n",
        "    if r0 != 1:\n",
        "        return None\n",
        "\n",
        "    # t0 is the inverse modulo m (may be negative)\n",
        "    return t0 % m"
      ],
      "metadata": {
        "id": "7tn4iAh2lo7X"
      },
      "execution_count": null,
      "outputs": []
    },
    {
      "cell_type": "code",
      "source": [
        "def elliptic_curve_addition_mod_p(P1, P2, A, B, p):\n",
        "    \"\"\"\n",
        "    Elliptic Curve Addition Algorithm (Theorem 6.6) modulo p\n",
        "\n",
        "    Args:\n",
        "        P1: The first point (x1, y1) or 'O' for the point at infinity.\n",
        "        P2: The second point (x2, y2) or 'O' for the point at infinity.\n",
        "        A: The coefficient A in the curve equation Y^2 = X^3 + AX + B.\n",
        "        B: The coefficient B in the curve equation Y^2 = X^3 + AX + B.\n",
        "        p: The prime modulus.\n",
        "\n",
        "    Returns:\n",
        "        The sum of P1 and P2, as a point (x3, y3) or 'O', modulo p.\n",
        "    \"\"\"\n",
        "\n",
        "    # (a) If P1 = O, then P1 + P2 = P2.\n",
        "    if P1 == 'O':\n",
        "        return P2\n",
        "\n",
        "    # (b) Otherwise, if P2 = O, then P1 + P2 = P1.\n",
        "    if P2 == 'O':\n",
        "        return P1\n",
        "\n",
        "    # (c) Otherwise, write P1 = (x1, y1) and P2 = (x2, y2).\n",
        "    x1, y1 = P1\n",
        "    x2, y2 = P2\n",
        "\n",
        "    # (d) If x1 = x2 and y1 = (-y2) % p, then P1 + P2 = O.\n",
        "    if x1 == x2 and y1 == (-y2) % p:\n",
        "        return 'O'\n",
        "\n",
        "    # (e) Otherwise, define lambda\n",
        "    if P1 != P2:\n",
        "        # Ensure no division by zero and calculate modular inverse\n",
        "        numerator = (y2 - y1) % p\n",
        "        denominator = (x2 - x1) % p\n",
        "        if denominator == 0:\n",
        "             return 'O' # Should be handled by case (d) but as a safeguard\n",
        "        inv_denominator = mod_inverse(denominator, p)\n",
        "        if inv_denominator is None:\n",
        "             return 'O' # Should not happen for a prime p unless denominator is 0\n",
        "        lambda_val = (numerator * inv_denominator) % p\n",
        "    else:  # P1 == P2\n",
        "        # Ensure no division by zero and calculate modular inverse\n",
        "        numerator = (3 * x1**2 + A) % p\n",
        "        denominator = (2 * y1) % p\n",
        "        if denominator == 0:\n",
        "             return 'O' # Point is on the x-axis, addition results in point at infinity\n",
        "        inv_denominator = mod_inverse(denominator, p)\n",
        "        if inv_denominator is None:\n",
        "             return 'O' # Should not happen for a prime p unless denominator is 0\n",
        "        lambda_val = (numerator * inv_denominator) % p\n",
        "\n",
        "    # Calculate x3 and y3 modulo p\n",
        "    x3 = (lambda_val**2 - x1 - x2) % p\n",
        "    y3 = (lambda_val * (x1 - x3) - y1) % p\n",
        "    return (x3, y3)"
      ],
      "metadata": {
        "id": "V3Ew_eSSgM5G"
      },
      "execution_count": null,
      "outputs": []
    },
    {
      "cell_type": "code",
      "source": [
        "# Example for Y^2 = X^3 + 8 over F_13\n",
        "\n",
        "# Define the curve parameters and the prime modulus\n",
        "A = 3\n",
        "B = 8\n",
        "p = 13\n",
        "\n",
        "# Example points on the curve (you would need to verify these points are actually on the curve)\n",
        "P1 = (1, 5)  # Example point 1\n",
        "P2 = (1, 8)  # Example point 2\n",
        "P3 = elliptic_curve_addition_mod_p(P1, P2, A, B, p)\n",
        "print(f\"P1 = {P1}\")\n",
        "print(f\"P2 = {P2}\")\n",
        "print(f\"P1 + P2 = {P3}\")\n",
        "\n",
        "# Example of adding a point to itself (doubling)\n",
        "P4 = (2, 3)\n",
        "P5 = elliptic_curve_addition_mod_p(P4, P4, A, B, p)\n",
        "print(f\"\\nP4 = {P4}\")\n",
        "print(f\"P4 + P4 = {P5}\")\n",
        "\n",
        "\n",
        "P6 = (9, 6)\n",
        "P7 = (12, 11) # The negative of P6 modulo p\n",
        "P8 = elliptic_curve_addition_mod_p(P6, P7, A, B, p)\n",
        "print(f\"\\nP6 = {P6}\")\n",
        "print(f\"P7 = {P7}\")\n",
        "print(f\"P6 + P7 = {P8}\")\n",
        "\n",
        "# Example with the point at infinity\n",
        "P9 = (1, 3)\n",
        "P10 = 'O'\n",
        "P11 = elliptic_curve_addition_mod_p(P9, P10, A, B, p)\n",
        "print(f\"\\nP9 = {P9}\")\n",
        "print(f\"P10 = {P10}\")\n",
        "print(f\"P9 + P10 = {P11}\")"
      ],
      "metadata": {
        "colab": {
          "base_uri": "https://localhost:8080/"
        },
        "id": "QDOauZOOgjkn",
        "outputId": "c8a9385b-cbdc-47c8-87b9-e4cb0479c63e"
      },
      "execution_count": 82,
      "outputs": [
        {
          "output_type": "stream",
          "name": "stdout",
          "text": [
            "P1 = (1, 5)\n",
            "P2 = (1, 8)\n",
            "P1 + P2 = O\n",
            "\n",
            "P4 = (2, 3)\n",
            "P4 + P4 = (12, 11)\n",
            "\n",
            "P6 = (9, 6)\n",
            "P7 = (12, 11)\n",
            "P6 + P7 = (2, 10)\n",
            "\n",
            "P9 = (1, 3)\n",
            "P10 = O\n",
            "P9 + P10 = (1, 3)\n"
          ]
        }
      ]
    },
    {
      "cell_type": "markdown",
      "source": [
        "# Elliptic Curve Multiploication\n",
        "- Double and Add Algorithm"
      ],
      "metadata": {
        "id": "cm4NcPrCnkKt"
      }
    },
    {
      "cell_type": "code",
      "source": [
        "\n",
        "def double_and_add(n, point, A, B, p):\n",
        "    \"\"\"\n",
        "    Implements the double and add algorithm for scalar multiplication\n",
        "    on an elliptic curve.\n",
        "\n",
        "    Args:\n",
        "        n: The scalar (integer) to multiply by.\n",
        "        point: The elliptic curve point.\n",
        "\n",
        "    Returns:\n",
        "        The resulting point after scalar multiplication.\n",
        "\n",
        "    \"\"\"#\n",
        "    R = 'O'\n",
        "    Q = point\n",
        "    while n != 0:\n",
        "        if n % 2 == 1:\n",
        "            R = elliptic_curve_addition_mod_p(R, Q, A, B, p)\n",
        "        Q = elliptic_curve_addition_mod_p(Q, Q, A, B, p)\n",
        "        n = n // 2  # Floor division\n",
        "\n",
        "    return R\n"
      ],
      "metadata": {
        "id": "Z8svpvGQnn7E"
      },
      "execution_count": 83,
      "outputs": []
    },
    {
      "cell_type": "code",
      "source": [
        "# Test the double_and_add function\n",
        "scalar = 5  # Example scalar\n",
        "point_to_multiply = (1, 8) # Example point (must be on the curve)\n",
        "result_point = double_and_add(scalar, point_to_multiply, 3, 8, 13)\n",
        "print(f\"\\n{scalar} * {point_to_multiply} = {result_point}\")\n",
        "\n"
      ],
      "metadata": {
        "colab": {
          "base_uri": "https://localhost:8080/"
        },
        "id": "FiFIIvQMoiIj",
        "outputId": "2064a975-7a65-4c63-c75c-857219398c9b"
      },
      "execution_count": 84,
      "outputs": [
        {
          "output_type": "stream",
          "name": "stdout",
          "text": [
            "R = O\n",
            "Q = (1, 8)\n",
            "2\n",
            "R = (1, 8)\n",
            "Q = (2, 3)\n",
            "1\n",
            "R = (1, 8)\n",
            "Q = (12, 11)\n",
            "0\n",
            "\n",
            "5 * (1, 8) = (12, 2)\n"
          ]
        }
      ]
    }
  ]
}